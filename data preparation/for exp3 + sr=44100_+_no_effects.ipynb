{
 "cells": [
  {
   "cell_type": "markdown",
   "metadata": {
    "id": "s_dDjR62m46T"
   },
   "source": [
    "# Импорт модулей\n",
    "\n",
    "Датасет взят с [Hugging face](https://huggingface.co/datasets/speech_commands)"
   ]
  },
  {
   "cell_type": "code",
   "execution_count": null,
   "metadata": {
    "colab": {
     "base_uri": "https://localhost:8080/"
    },
    "id": "sR_DCq06ylQ9",
    "outputId": "2b9aaa75-b67a-4a5f-86cc-70bfbf109868"
   },
   "outputs": [
    {
     "name": "stdout",
     "output_type": "stream",
     "text": [
      "Looking in indexes: https://pypi.org/simple, https://us-python.pkg.dev/colab-wheels/public/simple/\n",
      "Collecting pydub\n",
      "  Downloading pydub-0.25.1-py2.py3-none-any.whl (32 kB)\n",
      "Installing collected packages: pydub\n",
      "Successfully installed pydub-0.25.1\n"
     ]
    }
   ],
   "source": [
    "!pip install pydub"
   ]
  },
  {
   "cell_type": "code",
   "execution_count": null,
   "metadata": {
    "id": "Xs5X5U0IdR1P"
   },
   "outputs": [],
   "source": [
    "import os\n",
    "import json\n",
    "from google.colab import drive\n",
    "\n",
    "import wave\n",
    "import torch\n",
    "import librosa\n",
    "import torchaudio\n",
    "import librosa.display\n",
    "import soundfile as sf\n",
    "from scipy import signal\n",
    "import IPython.display as ipd\n",
    "from pydub import AudioSegment\n",
    "import torchaudio.functional as F \n",
    "from torchaudio.utils import download_asset\n",
    "\n",
    "import numpy as np\n",
    "import pandas as pd\n",
    "\n",
    "import plotly.express as px\n",
    "import matplotlib.pyplot as plt\n",
    "\n",
    "import shutil\n",
    "from google.colab import files"
   ]
  },
  {
   "cell_type": "markdown",
   "metadata": {
    "id": "p1-4UMpkxUQB"
   },
   "source": [
    "# Функции"
   ]
  },
  {
   "cell_type": "code",
   "execution_count": null,
   "metadata": {
    "id": "c6LU806Qxsnd"
   },
   "outputs": [],
   "source": [
    "def get_mean(file_path): #получаю среднее длины аудио\n",
    "    sum_lenght = []\n",
    "    too_big = []\n",
    "    too_low = []\n",
    "\n",
    "    for root, dirs, files in os.walk(file_path):\n",
    "        for i in dirs:\n",
    "            for root2, dirs2, files2 in os.walk(file_path+i):\n",
    "                for j in files2:\n",
    "                    path = file_path + i + '/' + j\n",
    "\n",
    "                    with wave.open(path) as mywav:\n",
    "                        duration_seconds = mywav.getnframes() / mywav.getframerate()\n",
    "\n",
    "                    if (duration_seconds < 1.0): \n",
    "                        too_low.append((path, duration_seconds))\n",
    "\n",
    "                    if (duration_seconds > 1.0): \n",
    "                        too_big.append(path)\n",
    "\n",
    "                    sum_lenght.append(duration_seconds)\n",
    "    \n",
    "    sum_lenght = np.array(sum_lenght)\n",
    "    \n",
    "    return np.mean(sum_lenght), sum_lenght, too_big, too_low"
   ]
  },
  {
   "cell_type": "code",
   "execution_count": null,
   "metadata": {
    "id": "y7VwC36IxqBg"
   },
   "outputs": [],
   "source": [
    "def get_silence(data, sr, path_to_write): # получаю ролики по секунде из длинных\n",
    "    for i in range(0, int(len(data) / sr) - 1):\n",
    "        dur = data[i * sr:sr * (i + 1)]\n",
    "        if(len(dur) < sr): continue\n",
    "\n",
    "        sf.write(f'{path_to_write}{i}.wav', dur, sr)"
   ]
  },
  {
   "cell_type": "code",
   "execution_count": null,
   "metadata": {
    "id": "OIJlYpg6hk5B"
   },
   "outputs": [],
   "source": [
    "def augented_data(file_path, sr, samples, mu, sigma, sounds, SAMPLE_RIR):\n",
    "\n",
    "    rir_samples = int(1/3 * samples)\n",
    "    noise_samples = int(1/3 * samples) + rir_samples\n",
    "\n",
    "    rir_raw, sample_rate = librosa.load(SAMPLE_RIR, sr=sr)\n",
    "    rir_raw = torch.Tensor([rir_raw])\n",
    "\n",
    "    sounds_lenght = len(sounds)\n",
    "\n",
    "    for root, dirs, files in os.walk(file_path):\n",
    "        lenght = len(files)\n",
    "        for i in range(samples):\n",
    "            iter = i % lenght\n",
    "\n",
    "            path = file_path + files[iter]\n",
    "            path_write = path.split('.')[0]\n",
    "\n",
    "            data, sr = librosa.load(path, sr=sr)\n",
    "            data = torch.Tensor([data])\n",
    "\n",
    "            if i < rir_samples:\n",
    "                rir = rir_raw[:, int(sr * 1.01) : int(sr * 1.3)]\n",
    "                rir = rir / torch.norm(rir, p=2)\n",
    "\n",
    "                augmented = signal.fftconvolve(data, rir)\n",
    "                sf.write(f'{path_write}_reverb_{i}.wav', augmented[0], sr)\n",
    "\n",
    "            elif i < noise_samples:\n",
    "                noise2 = np.random.normal(mu, sigma, [1,data.shape[1]])\n",
    "                sf.write(f'{path_write}_noise_{i}.wav', (data + noise2)[0], sr)\n",
    "\n",
    "            else:\n",
    "                iter_sound = i % sounds_lenght\n",
    "\n",
    "                data = AudioSegment.from_file(path, format=\"wav\")\n",
    "                noise = AudioSegment.from_file(sounds[iter_sound], format=\"wav\") - 25\n",
    "\n",
    "                overlay = data.overlay(noise, position=0)\n",
    "\n",
    "                overlay.export(f'{path_write}_back_{i}.wav', format=\"wav\")\n",
    "\n",
    "        break"
   ]
  },
  {
   "cell_type": "markdown",
   "metadata": {
    "id": "hGvAyCJqx4fD"
   },
   "source": [
    "# Загрузка данных"
   ]
  },
  {
   "cell_type": "code",
   "execution_count": null,
   "metadata": {
    "id": "4kVh_JdpkRvk"
   },
   "outputs": [],
   "source": [
    "f = open('/content/dataset_infos.json')\n",
    "data = json.load(f)\n",
    "f.close()"
   ]
  },
  {
   "cell_type": "code",
   "execution_count": null,
   "metadata": {
    "colab": {
     "base_uri": "https://localhost:8080/"
    },
    "id": "NuxvMy0Fkp1O",
    "outputId": "f9d38b2b-ee83-4071-f2a5-7e0e9d139c76"
   },
   "outputs": [
    {
     "data": {
      "text/plain": [
       "{'https://s3.amazonaws.com/datasets.huggingface.co/SpeechCommands/v0.02/v0.02_train.tar.gz': {'num_bytes': 1944462432,\n",
       "  'checksum': 'acfc1a9e5f020ef5d20f13bb5c1035dcc19a3cc6d5fd1fe775d99814ce840399'},\n",
       " 'https://s3.amazonaws.com/datasets.huggingface.co/SpeechCommands/v0.02/v0.02_validation.tar.gz': {'num_bytes': 229117586,\n",
       "  'checksum': '868bdecd3dc12276ee55d2aeca5b1f02d913d6f17875181c1bf9d465fa2f7be1'},\n",
       " 'https://s3.amazonaws.com/datasets.huggingface.co/SpeechCommands/v0.02/v0.02_test.tar.gz': {'num_bytes': 112395851,\n",
       "  'checksum': '45aedb39cb2c9f03e098a8d5c98350d6d8473c432ad4558fce26c6feb478a812'}}"
      ]
     },
     "execution_count": 3,
     "metadata": {},
     "output_type": "execute_result"
    }
   ],
   "source": [
    "data['v0.02']['download_checksums']"
   ]
  },
  {
   "cell_type": "code",
   "execution_count": null,
   "metadata": {
    "colab": {
     "base_uri": "https://localhost:8080/"
    },
    "id": "rwWnNqe35V3n",
    "outputId": "f54e043e-3ca0-442b-9496-476fce73d46a"
   },
   "outputs": [
    {
     "name": "stdout",
     "output_type": "stream",
     "text": [
      "Mounted at /content/gdrive/\n"
     ]
    }
   ],
   "source": [
    "drive.mount(\"/content/gdrive/\")"
   ]
  },
  {
   "cell_type": "code",
   "execution_count": null,
   "metadata": {
    "id": "tjWHD7xju1pq"
   },
   "outputs": [],
   "source": [
    "!mkdir '/content/train'\n",
    "!mkdir '/content/test'\n",
    "!mkdir '/content/dev'"
   ]
  },
  {
   "cell_type": "code",
   "execution_count": null,
   "metadata": {
    "id": "6vFrDDDZi8NC"
   },
   "outputs": [],
   "source": [
    "!unzip '/content/sounds.zip'"
   ]
  },
  {
   "cell_type": "code",
   "execution_count": null,
   "metadata": {
    "id": "E9OYBbWv5o04"
   },
   "outputs": [],
   "source": [
    "!tar -xvf '/content/v0.02_train.tar' -C '/content/train'\n",
    "!tar -xvf '/content/v0.02_validation.tar' -C '/content/dev'"
   ]
  },
  {
   "cell_type": "markdown",
   "metadata": {
    "id": "4WLkPETSqD9a"
   },
   "source": [
    "# Обработка бэков для аугментации"
   ]
  },
  {
   "cell_type": "code",
   "execution_count": null,
   "metadata": {
    "colab": {
     "base_uri": "https://localhost:8080/"
    },
    "id": "xac8e9DrqPeo",
    "outputId": "681c1ff7-e4ce-49b0-b24a-ad7ddd04d51f"
   },
   "outputs": [],
   "source": [
    "SAMPLE_NOISE = download_asset(\"tutorial-assets/Lab41-SRI-VOiCES-rm1-babb-mc01-stu-clo-8000hz.wav\")\n",
    "SAMPLE_RIR = download_asset(\"tutorial-assets/Lab41-SRI-VOiCES-rm1-impulse-mc01-stu-clo-8000hz.wav\")\n",
    "\n",
    "!mv '/content/sounds' '/content/sounds'"
   ]
  },
  {
   "cell_type": "code",
   "execution_count": null,
   "metadata": {
    "id": "fubb1NKDqfKQ"
   },
   "outputs": [],
   "source": [
    "sr = 44100\n",
    "data, sr = librosa.load('/content/sounds/CarTiresOnGravelEn PE856402.wav', sr=sr)\n",
    "data = data[:80000]\n",
    "sf.write(f'/content/sounds/cars.wav', data, sr)\n",
    "\n",
    "!rm '/content/sounds/CarTiresOnGravelEn PE856402.wav'\n",
    "!mv '/content/sounds/DogsBarkingCUandDistInfuriated PEHD014302.wav' '/content/sounds/DogsBarking.wav'"
   ]
  },
  {
   "cell_type": "code",
   "execution_count": null,
   "metadata": {
    "id": "6_U9UykMqx61"
   },
   "outputs": [],
   "source": [
    "dops_sounds = []\n",
    "\n",
    "file_path = '/content/sounds'\n",
    "\n",
    "for root, dirs, files in os.walk(file_path):\n",
    "    dops_sounds = files\n",
    "    break\n",
    "\n",
    "dops_sounds"
   ]
  },
  {
   "cell_type": "code",
   "execution_count": null,
   "metadata": {
    "id": "8BSVhY5dq6kb"
   },
   "outputs": [],
   "source": [
    "file_path = '/content/sounds/'\n",
    "\n",
    "for root, dirs, files in os.walk(file_path):\n",
    "    for iter, i in enumerate(files):\n",
    "        path = file_path + i\n",
    "        data, sr = librosa.load(path, sr=44100)\n",
    "\n",
    "        get_silence(data, sr, '/content/sounds/' + str(iter) + '_')\n",
    "    break\n",
    "    \n",
    "for root, dirs, files in os.walk(file_path):\n",
    "    print(len(files))"
   ]
  },
  {
   "cell_type": "code",
   "execution_count": null,
   "metadata": {
    "id": "c2X8Q8PZrCkI"
   },
   "outputs": [],
   "source": [
    "file_path = SAMPLE_NOISE\n",
    "\n",
    "data, sr = librosa.load(SAMPLE_NOISE, sr=44100)\n",
    "get_silence(data, sr, '/content/sounds/' + str(6) + '_')\n",
    "\n",
    "file_path = '/content/sounds/'\n",
    "\n",
    "for root, dirs, files in os.walk(file_path):\n",
    "    print(len(files))\n",
    "    break"
   ]
  },
  {
   "cell_type": "code",
   "execution_count": null,
   "metadata": {
    "id": "_Gyh2qqvrLqt"
   },
   "outputs": [],
   "source": [
    "for i in dops_sounds:\n",
    "    path = '/content/sounds/' + i\n",
    "    !rm $path\n",
    "\n",
    "file_path = '/content/sounds/'\n",
    "sounds = []\n",
    "\n",
    "for root, dirs, files in os.walk(file_path):\n",
    "    for i in files:\n",
    "        path = file_path + i\n",
    "        sounds.append(path)\n",
    "    print(len(files))\n",
    "    break"
   ]
  },
  {
   "cell_type": "markdown",
   "metadata": {
    "id": "jO5lD0b3jJFY"
   },
   "source": [
    "# Аугментация и починка"
   ]
  },
  {
   "cell_type": "markdown",
   "metadata": {
    "id": "vEb6no8-jjAL"
   },
   "source": [
    "## Обучающая выборка"
   ]
  },
  {
   "cell_type": "markdown",
   "metadata": {
    "id": "O1RwMPzjo3T5"
   },
   "source": [
    "### Разбиенние длинных записей"
   ]
  },
  {
   "cell_type": "code",
   "execution_count": null,
   "metadata": {
    "id": "0Lij8KLMRxx2"
   },
   "outputs": [],
   "source": [
    "mean_dur_train, dur_train, big_data_train, small_data_train = get_mean('/content/train/')"
   ]
  },
  {
   "cell_type": "code",
   "execution_count": null,
   "metadata": {
    "id": "PoAhuZtGTGXv"
   },
   "outputs": [],
   "source": [
    "for i in big_data_train:\n",
    "    data, sr = librosa.load(i, sr=44100)\n",
    "    get_silence(data, sr, i.split('.')[0])\n",
    "\n",
    "for i in big_data_train:\n",
    "    !rm $i"
   ]
  },
  {
   "cell_type": "code",
   "execution_count": null,
   "metadata": {
    "id": "HoPomQHqCnET"
   },
   "outputs": [],
   "source": [
    "common_len = 0\n",
    "for root, dirs, files in os.walk('/content/train/'):\n",
    "    common_len += len(files)\n",
    "\n",
    "common_len"
   ]
  },
  {
   "cell_type": "markdown",
   "metadata": {
    "id": "2be0GYb6pspN"
   },
   "source": [
    "### Удаление поврежденных данных"
   ]
  },
  {
   "cell_type": "code",
   "execution_count": null,
   "metadata": {
    "id": "KfnLNYYNknvO"
   },
   "outputs": [],
   "source": [
    "file_path = '/content/train/marvin/'\n",
    "low_data_marvin_train = []\n",
    "\n",
    "for root, dirs, files in os.walk(file_path):\n",
    "    for i in files:\n",
    "        path = file_path + i\n",
    "\n",
    "        with wave.open(path) as mywav:\n",
    "            duration_seconds = mywav.getnframes() / mywav.getframerate()\n",
    "\n",
    "        if (duration_seconds < 1.0): \n",
    "            low_data_marvin_train.append((path, duration_seconds))"
   ]
  },
  {
   "cell_type": "code",
   "execution_count": null,
   "metadata": {
    "id": "JiuuPmL7tKbJ"
   },
   "outputs": [],
   "source": [
    "count = []\n",
    "for i in low_data_marvin_train:\n",
    "    if i[1] < 0.8:\n",
    "        count.append(i[0])"
   ]
  },
  {
   "cell_type": "code",
   "execution_count": null,
   "metadata": {
    "id": "joh93ir-CsYs"
   },
   "outputs": [],
   "source": [
    "len(count)"
   ]
  },
  {
   "cell_type": "code",
   "execution_count": null,
   "metadata": {
    "id": "BHvKDw5utxio"
   },
   "outputs": [],
   "source": [
    "for i in count:\n",
    "    !rm $i"
   ]
  },
  {
   "cell_type": "code",
   "execution_count": null,
   "metadata": {
    "id": "6hTPqJmm0dH3"
   },
   "outputs": [],
   "source": [
    "!rm '/content/train/marvin/88e85150_nohash_0.wav'\n",
    "!rm '/content/train/marvin/88e85150_nohash_1.wav'"
   ]
  },
  {
   "cell_type": "markdown",
   "metadata": {
    "id": "xulyKWbpp0LH"
   },
   "source": [
    "### Аугментация"
   ]
  },
  {
   "cell_type": "code",
   "execution_count": null,
   "metadata": {
    "colab": {
     "base_uri": "https://localhost:8080/"
    },
    "id": "8ySYIMc0EaIc",
    "outputId": "426260c0-ba88-4151-a291-8a2fc83ddb2a"
   },
   "outputs": [
    {
     "name": "stdout",
     "output_type": "stream",
     "text": [
      "Сколько надо дозаполнить:  81841\n"
     ]
    }
   ],
   "source": [
    "file_path = '/content/train/'\n",
    "common = 0\n",
    "\n",
    "for root, dirs, files in os.walk(file_path):\n",
    "    for i in dirs:\n",
    "        for root2, dirs2, files2 in os.walk(file_path + i):\n",
    "            common += len(files2)\n",
    "    # print(len(files))\n",
    "    break\n",
    "\n",
    "marvin = 0\n",
    "file_path = '/content/train/marvin'\n",
    "for root, dirs, files in os.walk(file_path):\n",
    "    marvin = len(files)\n",
    "    # print(len(files))\n",
    "    break\n",
    "\n",
    "samples = common - 2 * marvin\n",
    "print('Сколько надо дозаполнить: ', samples)\n",
    "\n",
    "mu, sigma = 0, 0.02"
   ]
  },
  {
   "cell_type": "code",
   "execution_count": null,
   "metadata": {
    "colab": {
     "base_uri": "https://localhost:8080/"
    },
    "id": "gbzFaqS6sblQ",
    "outputId": "bc80f446-1c76-4a26-c820-77734f5849ac"
   },
   "outputs": [
    {
     "name": "stderr",
     "output_type": "stream",
     "text": [
      "<ipython-input-5-47502f4e01a8>:7: UserWarning: Creating a tensor from a list of numpy.ndarrays is extremely slow. Please consider converting the list to a single numpy.ndarray with numpy.array() before converting to a tensor. (Triggered internally at ../torch/csrc/utils/tensor_new.cpp:245.)\n",
      "  rir_raw = torch.Tensor([rir_raw])\n"
     ]
    }
   ],
   "source": [
    "augented_data('/content/train/marvin/', 44100, samples, mu, sigma, sounds, SAMPLE_RIR)"
   ]
  },
  {
   "cell_type": "code",
   "execution_count": null,
   "metadata": {
    "colab": {
     "base_uri": "https://localhost:8080/"
    },
    "id": "RWFCFGpeC9ay",
    "outputId": "f4dc8d66-fc37-4a29-895c-1e3ac9104bff"
   },
   "outputs": [
    {
     "data": {
      "text/plain": [
       "166930"
      ]
     },
     "execution_count": 26,
     "metadata": {},
     "output_type": "execute_result"
    }
   ],
   "source": [
    "file_path = '/content/train/'\n",
    "lenbgt = 0\n",
    "\n",
    "for root, dirs, files in os.walk(file_path):\n",
    "    for i in dirs:\n",
    "        path = file_path + i\n",
    "\n",
    "        for j, k, l in os.walk(path):\n",
    "            lenbgt += len(l)\n",
    "            break\n",
    "\n",
    "    break\n",
    "\n",
    "lenbgt"
   ]
  },
  {
   "cell_type": "code",
   "execution_count": null,
   "metadata": {
    "colab": {
     "base_uri": "https://localhost:8080/"
    },
    "id": "Qzabb-IJL2XN",
    "outputId": "3dbf4fbd-6a4d-44cf-84bf-1a5062a5e415"
   },
   "outputs": [
    {
     "data": {
      "text/plain": [
       "83465"
      ]
     },
     "execution_count": 27,
     "metadata": {},
     "output_type": "execute_result"
    }
   ],
   "source": [
    "marvin = 0\n",
    "file_path = '/content/train/marvin'\n",
    "for root, dirs, files in os.walk(file_path):\n",
    "    marvin = len(files)\n",
    "    # print(len(files))\n",
    "    break\n",
    "\n",
    "marvin"
   ]
  },
  {
   "cell_type": "code",
   "execution_count": null,
   "metadata": {
    "colab": {
     "base_uri": "https://localhost:8080/"
    },
    "id": "9MuR4vYmMMBM",
    "outputId": "f9391ef6-f518-45b8-d315-c68a648e108a"
   },
   "outputs": [
    {
     "data": {
      "text/plain": [
       "83465.0"
      ]
     },
     "execution_count": 58,
     "metadata": {},
     "output_type": "execute_result"
    }
   ],
   "source": [
    "166930 / 2"
   ]
  },
  {
   "cell_type": "markdown",
   "metadata": {
    "id": "TUUw5CNU3mst"
   },
   "source": [
    "## Валидационная выборка\n",
    "### Разбиенние длинных записей"
   ]
  },
  {
   "cell_type": "code",
   "execution_count": null,
   "metadata": {
    "id": "YHb3NWhzbON0"
   },
   "outputs": [],
   "source": [
    "mean_dur_dev, dur_dev, big_data_dev, small_data_dev = get_mean('/content/dev/')"
   ]
  },
  {
   "cell_type": "code",
   "execution_count": null,
   "metadata": {
    "id": "KM2doDc53tIN"
   },
   "outputs": [],
   "source": [
    "data, sr = librosa.load('/content/dev/_silence_/running_tap.wav', sr=44100)\n",
    "get_silence(data, sr, '/content/dev/_silence_/silence')\n",
    "!rm '/content/dev/_silence_/running_tap.wav'"
   ]
  },
  {
   "cell_type": "markdown",
   "metadata": {
    "id": "8L4NMt4Y31N5"
   },
   "source": [
    "### Аугментация"
   ]
  },
  {
   "cell_type": "code",
   "execution_count": null,
   "metadata": {
    "colab": {
     "base_uri": "https://localhost:8080/"
    },
    "id": "3Xh32YL45YJm",
    "outputId": "02f1a381-ffd0-4fef-ac0d-27794b7c6b8f"
   },
   "outputs": [
    {
     "name": "stdout",
     "output_type": "stream",
     "text": [
      "Сколько надо дозаполнить:  9651\n"
     ]
    }
   ],
   "source": [
    "file_path = '/content/dev/'\n",
    "common = 0\n",
    "\n",
    "for root, dirs, files in os.walk(file_path):\n",
    "    for i in dirs:\n",
    "        for root2, dirs2, files2 in os.walk(file_path + i):\n",
    "            common += len(files2)\n",
    "    # print(len(files))\n",
    "    break\n",
    "\n",
    "marvin = 0\n",
    "file_path = '/content/dev/marvin/'\n",
    "for root, dirs, files in os.walk(file_path):\n",
    "    marvin = len(files)\n",
    "    # print(len(files))\n",
    "    break\n",
    "\n",
    "samples = common - 2 * marvin\n",
    "print('Сколько надо дозаполнить: ', samples)\n",
    "\n",
    "mu, sigma = 0, 0.02"
   ]
  },
  {
   "cell_type": "code",
   "execution_count": null,
   "metadata": {
    "id": "-JxCme96LUJt"
   },
   "outputs": [],
   "source": [
    "augented_data('/content/dev/marvin/', 44100, samples, mu, sigma, sounds, SAMPLE_RIR)"
   ]
  },
  {
   "cell_type": "code",
   "execution_count": null,
   "metadata": {
    "colab": {
     "base_uri": "https://localhost:8080/"
    },
    "id": "6CvyrlU3Lsth",
    "outputId": "febaa101-620e-48d6-d60e-da7e1879c896"
   },
   "outputs": [
    {
     "data": {
      "text/plain": [
       "9846"
      ]
     },
     "execution_count": 33,
     "metadata": {},
     "output_type": "execute_result"
    }
   ],
   "source": [
    "marvin = 0\n",
    "file_path = '/content/dev/marvin'\n",
    "for root, dirs, files in os.walk(file_path):\n",
    "    marvin = len(files)\n",
    "    # print(len(files))\n",
    "    break\n",
    "\n",
    "marvin"
   ]
  },
  {
   "cell_type": "code",
   "execution_count": null,
   "metadata": {
    "colab": {
     "base_uri": "https://localhost:8080/"
    },
    "id": "Buq_NTKdMA2Z",
    "outputId": "e9451116-ab24-4693-d634-770f660898a0"
   },
   "outputs": [
    {
     "data": {
      "text/plain": [
       "19692"
      ]
     },
     "execution_count": 34,
     "metadata": {},
     "output_type": "execute_result"
    }
   ],
   "source": [
    "file_path = '/content/dev/'\n",
    "lenbgt = 0\n",
    "\n",
    "for root, dirs, files in os.walk(file_path):\n",
    "    for i in dirs:\n",
    "        path = file_path + i\n",
    "\n",
    "        for j, k, l in os.walk(path):\n",
    "            lenbgt += len(l)\n",
    "            break\n",
    "\n",
    "    break\n",
    "\n",
    "lenbgt"
   ]
  },
  {
   "cell_type": "code",
   "execution_count": null,
   "metadata": {
    "colab": {
     "base_uri": "https://localhost:8080/"
    },
    "id": "4iB5qw7EMGVQ",
    "outputId": "0cf26cea-890f-45d3-bb64-c34ff96c0144"
   },
   "outputs": [
    {
     "data": {
      "text/plain": [
       "9846.0"
      ]
     },
     "execution_count": 56,
     "metadata": {},
     "output_type": "execute_result"
    }
   ],
   "source": [
    "19692 / 2"
   ]
  }
 ],
 "metadata": {
  "colab": {
   "collapsed_sections": [
    "p1-4UMpkxUQB",
    "Cda4OMzn2JIV",
    "_WnXXbAT1_Dj"
   ],
   "provenance": []
  },
  "kernelspec": {
   "display_name": "Python 3 (ipykernel)",
   "language": "python",
   "name": "python3"
  },
  "language_info": {
   "codemirror_mode": {
    "name": "ipython",
    "version": 3
   },
   "file_extension": ".py",
   "mimetype": "text/x-python",
   "name": "python",
   "nbconvert_exporter": "python",
   "pygments_lexer": "ipython3",
   "version": "3.8.10"
  }
 },
 "nbformat": 4,
 "nbformat_minor": 1
}
